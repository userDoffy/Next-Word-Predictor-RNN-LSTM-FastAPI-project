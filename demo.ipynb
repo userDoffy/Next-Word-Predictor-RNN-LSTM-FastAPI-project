{
 "cells": [
  {
   "cell_type": "code",
   "execution_count": 2,
   "metadata": {},
   "outputs": [],
   "source": [
    "import tensorflow as tf\n",
    "from tensorflow.keras.models import load_model\n",
    "from tensorflow.keras.preprocessing.sequence import pad_sequences\n",
    "from tensorflow.keras.preprocessing.text import Tokenizer\n",
    "import numpy as np\n",
    "import pickle"
   ]
  },
  {
   "cell_type": "code",
   "execution_count": 3,
   "metadata": {},
   "outputs": [],
   "source": [
    "model=load_model(\"models/first_model\")\n",
    "with open('models/tokenizer.pkl', 'rb') as handle:\n",
    "    tokenizer = pickle.load(handle)"
   ]
  },
  {
   "cell_type": "code",
   "execution_count": 4,
   "metadata": {},
   "outputs": [],
   "source": [
    "max_len=22"
   ]
  },
  {
   "cell_type": "code",
   "execution_count": 5,
   "metadata": {},
   "outputs": [
    {
     "name": "stdout",
     "output_type": "stream",
     "text": [
      "Model: \"sequential\"\n",
      "_________________________________________________________________\n",
      " Layer (type)                Output Shape              Param #   \n",
      "=================================================================\n",
      " embedding (Embedding)       (None, 21, 128)           1053440   \n",
      "                                                                 \n",
      " lstm (LSTM)                 (None, 200)               263200    \n",
      "                                                                 \n",
      " dense (Dense)               (None, 8230)              1654230   \n",
      "                                                                 \n",
      "=================================================================\n",
      "Total params: 2970870 (11.33 MB)\n",
      "Trainable params: 2970870 (11.33 MB)\n",
      "Non-trainable params: 0 (0.00 Byte)\n",
      "_________________________________________________________________\n"
     ]
    }
   ],
   "source": [
    "model.summary()"
   ]
  },
  {
   "cell_type": "code",
   "execution_count": 6,
   "metadata": {},
   "outputs": [],
   "source": [
    "def predict_next(text):\n",
    "    token_text = tokenizer.texts_to_sequences([text])[0]\n",
    "    padded_token_text=pad_sequences([token_text],maxlen=max_len-1,padding='pre')\n",
    "    preds =model.predict(padded_token_text)\n",
    "    top_indices = np.argsort(preds[0])[-5:][::-1]  # Get top 5 predictions\n",
    "    next_words = [word for word, index in tokenizer.word_index.items() if index in top_indices]\n",
    "    return next_words"
   ]
  },
  {
   "cell_type": "code",
   "execution_count": 7,
   "metadata": {},
   "outputs": [
    {
     "name": "stdout",
     "output_type": "stream",
     "text": [
      "1/1 [==============================] - 1s 539ms/step\n",
      "['you', 'i', 'we', 'financial', 'designers']\n"
     ]
    }
   ],
   "source": [
    "text=\"why do\"\n",
    "\n",
    "next=predict_next(text)\n",
    "\n",
    "print(next)"
   ]
  },
  {
   "cell_type": "code",
   "execution_count": null,
   "metadata": {},
   "outputs": [],
   "source": []
  }
 ],
 "metadata": {
  "kernelspec": {
   "display_name": "Python 3",
   "language": "python",
   "name": "python3"
  },
  "language_info": {
   "codemirror_mode": {
    "name": "ipython",
    "version": 3
   },
   "file_extension": ".py",
   "mimetype": "text/x-python",
   "name": "python",
   "nbconvert_exporter": "python",
   "pygments_lexer": "ipython3",
   "version": "3.11.9"
  }
 },
 "nbformat": 4,
 "nbformat_minor": 2
}
